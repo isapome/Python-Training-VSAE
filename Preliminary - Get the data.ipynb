{
 "cells": [
  {
   "cell_type": "code",
   "execution_count": null,
   "metadata": {},
   "outputs": [],
   "source": [
    "!wget -nc -P'Data' https://github.com/isapome/Python-Training-VSAE/tree/13cc728ea47abc2a8cac30940c0accb7f649586b/Data/two_sums_20000.pkl\n",
    "!wget -nc -P'Data' https://github.com/isapome/Python-Training-VSAE/tree/13cc728ea47abc2a8cac30940c0accb7f649586b/Data/two_sums_200000.pkl\n",
    "!wget -nc -P'Data' https://github.com/isapome/Python-Training-VSAE/tree/13cc728ea47abc2a8cac30940c0accb7f649586b/Data/Exercise1.csv\n",
    "!wget -nc -P'Data' https://github.com/isapome/Python-Training-VSAE/tree/13cc728ea47abc2a8cac30940c0accb7f649586b/Data/Exercise2.csv\n",
    "!wget -nc -P'Data' https://github.com/isapome/Python-Training-VSAE/tree/13cc728ea47abc2a8cac30940c0accb7f649586b/Data/Exercise3.csv\n",
    "!wget -nc -P'Data' https://github.com/isapome/Python-Training-VSAE/tree/13cc728ea47abc2a8cac30940c0accb7f649586b/Data/Exercise4.csv"
   ]
  }
 ],
 "metadata": {
  "language_info": {
   "name": "python"
  }
 },
 "nbformat": 4,
 "nbformat_minor": 2
}
